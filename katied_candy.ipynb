{
 "cells": [
  {
   "cell_type": "code",
   "execution_count": 2,
   "metadata": {},
   "outputs": [],
   "source": [
    "# 1.\n",
    "import pandas as pd\n",
    "import matplotlib.pyplot as plt\n",
    "import seaborn as sns\n",
    "import os\n",
    "import geopandas as gpd\n",
    "\n",
    "%matplotlib inline"
   ]
  },
  {
   "cell_type": "code",
   "execution_count": 3,
   "metadata": {},
   "outputs": [],
   "source": [
    "# 2a.\n",
    "candy = gpd.read_file('data/candy_state.geojson')"
   ]
  },
  {
   "cell_type": "code",
   "execution_count": 4,
   "metadata": {},
   "outputs": [
    {
     "data": {
      "text/html": [
       "<div>\n",
       "<style scoped>\n",
       "    .dataframe tbody tr th:only-of-type {\n",
       "        vertical-align: middle;\n",
       "    }\n",
       "\n",
       "    .dataframe tbody tr th {\n",
       "        vertical-align: top;\n",
       "    }\n",
       "\n",
       "    .dataframe thead th {\n",
       "        text-align: right;\n",
       "    }\n",
       "</style>\n",
       "<table border=\"1\" class=\"dataframe\">\n",
       "  <thead>\n",
       "    <tr style=\"text-align: right;\">\n",
       "      <th></th>\n",
       "      <th>name</th>\n",
       "      <th>3rd_place</th>\n",
       "      <th>2nd_lbs</th>\n",
       "      <th>state</th>\n",
       "      <th>2nd_place</th>\n",
       "      <th>3rd_lbs</th>\n",
       "      <th>1st_place</th>\n",
       "      <th>1st_lbs</th>\n",
       "      <th>geometry</th>\n",
       "    </tr>\n",
       "  </thead>\n",
       "  <tbody>\n",
       "    <tr>\n",
       "      <th>0</th>\n",
       "      <td>Florida</td>\n",
       "      <td>Reese's Peanut Butter Cups</td>\n",
       "      <td>543529</td>\n",
       "      <td>FL</td>\n",
       "      <td>Snickers</td>\n",
       "      <td>194117</td>\n",
       "      <td>Skittles</td>\n",
       "      <td>660000</td>\n",
       "      <td>MULTIPOLYGON (((-82.98339 24.60263, -82.98624 ...</td>\n",
       "    </tr>\n",
       "    <tr>\n",
       "      <th>1</th>\n",
       "      <td>Kansas</td>\n",
       "      <td>Dubble Bubble Gum</td>\n",
       "      <td>210375</td>\n",
       "      <td>KS</td>\n",
       "      <td>Reese's Peanut Butter Cups</td>\n",
       "      <td>111375</td>\n",
       "      <td>M&amp;M's</td>\n",
       "      <td>247500</td>\n",
       "      <td>POLYGON ((-102.04521 38.69757, -102.04521 38.7...</td>\n",
       "    </tr>\n",
       "  </tbody>\n",
       "</table>\n",
       "</div>"
      ],
      "text/plain": [
       "      name                   3rd_place  2nd_lbs state  \\\n",
       "0  Florida  Reese's Peanut Butter Cups   543529    FL   \n",
       "1   Kansas           Dubble Bubble Gum   210375    KS   \n",
       "\n",
       "                    2nd_place  3rd_lbs 1st_place  1st_lbs  \\\n",
       "0                    Snickers   194117  Skittles   660000   \n",
       "1  Reese's Peanut Butter Cups   111375     M&M's   247500   \n",
       "\n",
       "                                            geometry  \n",
       "0  MULTIPOLYGON (((-82.98339 24.60263, -82.98624 ...  \n",
       "1  POLYGON ((-102.04521 38.69757, -102.04521 38.7...  "
      ]
     },
     "execution_count": 4,
     "metadata": {},
     "output_type": "execute_result"
    }
   ],
   "source": [
    "# 2b.\n",
    "candy.columns = ['name', '3rd_place', '2nd_lbs', 'state', '2nd_place', '3rd_lbs', '1st_place', '1st_lbs', 'geometry']\n",
    "candy.head(2)"
   ]
  },
  {
   "cell_type": "code",
   "execution_count": 32,
   "metadata": {},
   "outputs": [
    {
     "data": {
      "text/html": [
       "<div>\n",
       "<style scoped>\n",
       "    .dataframe tbody tr th:only-of-type {\n",
       "        vertical-align: middle;\n",
       "    }\n",
       "\n",
       "    .dataframe tbody tr th {\n",
       "        vertical-align: top;\n",
       "    }\n",
       "\n",
       "    .dataframe thead th {\n",
       "        text-align: right;\n",
       "    }\n",
       "</style>\n",
       "<table border=\"1\" class=\"dataframe\">\n",
       "  <thead>\n",
       "    <tr style=\"text-align: right;\">\n",
       "      <th></th>\n",
       "      <th>name</th>\n",
       "      <th>3rd_place</th>\n",
       "      <th>2nd_lbs</th>\n",
       "      <th>state</th>\n",
       "      <th>2nd_place</th>\n",
       "      <th>3rd_lbs</th>\n",
       "      <th>1st_place</th>\n",
       "      <th>1st_lbs</th>\n",
       "      <th>geometry</th>\n",
       "      <th>total_lbs</th>\n",
       "    </tr>\n",
       "  </thead>\n",
       "  <tbody>\n",
       "    <tr>\n",
       "      <th>46</th>\n",
       "      <td>Rhode Island</td>\n",
       "      <td>Twix</td>\n",
       "      <td>11583</td>\n",
       "      <td>RI</td>\n",
       "      <td>M&amp;M's</td>\n",
       "      <td>7078</td>\n",
       "      <td>Candy Corn</td>\n",
       "      <td>16731</td>\n",
       "      <td>MULTIPOLYGON (((-71.67264 41.13429, -71.67609 ...</td>\n",
       "      <td>35392</td>\n",
       "    </tr>\n",
       "    <tr>\n",
       "      <th>47</th>\n",
       "      <td>Hawaii</td>\n",
       "      <td>Milky Way</td>\n",
       "      <td>255984</td>\n",
       "      <td>HI</td>\n",
       "      <td>Hawaiian Host</td>\n",
       "      <td>105405</td>\n",
       "      <td>Hershey Kisses</td>\n",
       "      <td>271042</td>\n",
       "      <td>MULTIPOLYGON (((-166.38290 23.82966, -166.3844...</td>\n",
       "      <td>632431</td>\n",
       "    </tr>\n",
       "    <tr>\n",
       "      <th>48</th>\n",
       "      <td>Oregon</td>\n",
       "      <td>Tootsie Pops</td>\n",
       "      <td>51374</td>\n",
       "      <td>OR</td>\n",
       "      <td>M&amp;M's</td>\n",
       "      <td>36696</td>\n",
       "      <td>Reese's Peanut Butter Cups</td>\n",
       "      <td>91740</td>\n",
       "      <td>POLYGON ((-124.06545 45.78305, -124.06206 45.7...</td>\n",
       "      <td>179810</td>\n",
       "    </tr>\n",
       "    <tr>\n",
       "      <th>49</th>\n",
       "      <td>Arizona</td>\n",
       "      <td>Hot Tamales Minis</td>\n",
       "      <td>680450</td>\n",
       "      <td>AZ</td>\n",
       "      <td>Hershey Kisses</td>\n",
       "      <td>453633</td>\n",
       "      <td>Snickers</td>\n",
       "      <td>963971</td>\n",
       "      <td>POLYGON ((-114.51645 33.02762, -114.51664 33.0...</td>\n",
       "      <td>2098054</td>\n",
       "    </tr>\n",
       "    <tr>\n",
       "      <th>50</th>\n",
       "      <td>South Dakota</td>\n",
       "      <td>Almond Joy</td>\n",
       "      <td>19569</td>\n",
       "      <td>SD</td>\n",
       "      <td>Jolly Ranchers Candy</td>\n",
       "      <td>6179</td>\n",
       "      <td>Starburst</td>\n",
       "      <td>27809</td>\n",
       "      <td>POLYGON ((-100.49937 45.94365, -100.48192 45.9...</td>\n",
       "      <td>53557</td>\n",
       "    </tr>\n",
       "  </tbody>\n",
       "</table>\n",
       "</div>"
      ],
      "text/plain": [
       "            name          3rd_place  2nd_lbs state             2nd_place  \\\n",
       "46  Rhode Island               Twix    11583    RI                 M&M's   \n",
       "47        Hawaii          Milky Way   255984    HI         Hawaiian Host   \n",
       "48        Oregon       Tootsie Pops    51374    OR                 M&M's   \n",
       "49       Arizona  Hot Tamales Minis   680450    AZ        Hershey Kisses   \n",
       "50  South Dakota         Almond Joy    19569    SD  Jolly Ranchers Candy   \n",
       "\n",
       "    3rd_lbs                   1st_place  1st_lbs  \\\n",
       "46     7078                  Candy Corn    16731   \n",
       "47   105405              Hershey Kisses   271042   \n",
       "48    36696  Reese's Peanut Butter Cups    91740   \n",
       "49   453633                    Snickers   963971   \n",
       "50     6179                   Starburst    27809   \n",
       "\n",
       "                                             geometry  total_lbs  \n",
       "46  MULTIPOLYGON (((-71.67264 41.13429, -71.67609 ...      35392  \n",
       "47  MULTIPOLYGON (((-166.38290 23.82966, -166.3844...     632431  \n",
       "48  POLYGON ((-124.06545 45.78305, -124.06206 45.7...     179810  \n",
       "49  POLYGON ((-114.51645 33.02762, -114.51664 33.0...    2098054  \n",
       "50  POLYGON ((-100.49937 45.94365, -100.48192 45.9...      53557  "
      ]
     },
     "execution_count": 32,
     "metadata": {},
     "output_type": "execute_result"
    }
   ],
   "source": [
    "# 3.\n",
    "candy[['total_lbs']] = candy[['1st_lbs', '2nd_lbs', '3rd_lbs']].sum(1)\n",
    "candy.tail()"
   ]
  },
  {
   "cell_type": "code",
   "execution_count": 27,
   "metadata": {},
   "outputs": [
    {
     "data": {
      "text/html": [
       "<div>\n",
       "<style scoped>\n",
       "    .dataframe tbody tr th:only-of-type {\n",
       "        vertical-align: middle;\n",
       "    }\n",
       "\n",
       "    .dataframe tbody tr th {\n",
       "        vertical-align: top;\n",
       "    }\n",
       "\n",
       "    .dataframe thead th {\n",
       "        text-align: right;\n",
       "    }\n",
       "</style>\n",
       "<table border=\"1\" class=\"dataframe\">\n",
       "  <thead>\n",
       "    <tr style=\"text-align: right;\">\n",
       "      <th></th>\n",
       "      <th>state</th>\n",
       "      <th>total_lbs</th>\n",
       "    </tr>\n",
       "  </thead>\n",
       "  <tbody>\n",
       "    <tr>\n",
       "      <th>4</th>\n",
       "      <td>CA</td>\n",
       "      <td>3564000</td>\n",
       "    </tr>\n",
       "  </tbody>\n",
       "</table>\n",
       "</div>"
      ],
      "text/plain": [
       "  state  total_lbs\n",
       "4    CA    3564000"
      ]
     },
     "execution_count": 27,
     "metadata": {},
     "output_type": "execute_result"
    }
   ],
   "source": [
    "# 4.\n",
    "gcw = candy[['state', 'total_lbs']]\n",
    "gcw = gcw.sort_values(by=['total_lbs'], ascending=False)\n",
    "gcw.head(1)"
   ]
  },
  {
   "cell_type": "code",
   "execution_count": 28,
   "metadata": {},
   "outputs": [
    {
     "data": {
      "text/html": [
       "<div>\n",
       "<style scoped>\n",
       "    .dataframe tbody tr th:only-of-type {\n",
       "        vertical-align: middle;\n",
       "    }\n",
       "\n",
       "    .dataframe tbody tr th {\n",
       "        vertical-align: top;\n",
       "    }\n",
       "\n",
       "    .dataframe thead th {\n",
       "        text-align: right;\n",
       "    }\n",
       "</style>\n",
       "<table border=\"1\" class=\"dataframe\">\n",
       "  <thead>\n",
       "    <tr style=\"text-align: right;\">\n",
       "      <th></th>\n",
       "      <th>state</th>\n",
       "      <th>total_lbs</th>\n",
       "    </tr>\n",
       "  </thead>\n",
       "  <tbody>\n",
       "    <tr>\n",
       "      <th>44</th>\n",
       "      <td>CT</td>\n",
       "      <td>4895</td>\n",
       "    </tr>\n",
       "  </tbody>\n",
       "</table>\n",
       "</div>"
      ],
      "text/plain": [
       "   state  total_lbs\n",
       "44    CT       4895"
      ]
     },
     "execution_count": 28,
     "metadata": {},
     "output_type": "execute_result"
    }
   ],
   "source": [
    "# 5.\n",
    "lcw = candy[['state', 'total_lbs']]\n",
    "lcw = lcw.sort_values(by=['total_lbs'], ascending=True)\n",
    "lcw.head(1)"
   ]
  },
  {
   "cell_type": "code",
   "execution_count": 57,
   "metadata": {},
   "outputs": [
    {
     "data": {
      "text/plain": [
       "total_lbs    373608.882353\n",
       "dtype: float64"
      ]
     },
     "execution_count": 57,
     "metadata": {},
     "output_type": "execute_result"
    }
   ],
   "source": [
    "# 6a.\n",
    "mean = candy[['total_lbs']].mean()\n",
    "mean.head()"
   ]
  },
  {
   "cell_type": "code",
   "execution_count": 58,
   "metadata": {},
   "outputs": [
    {
     "data": {
      "text/plain": [
       "total_lbs    191589.0\n",
       "dtype: float64"
      ]
     },
     "execution_count": 58,
     "metadata": {},
     "output_type": "execute_result"
    }
   ],
   "source": [
    "# 6b.\n",
    "median = candy[['total_lbs']].median()\n",
    "median.head()"
   ]
  },
  {
   "cell_type": "code",
   "execution_count": null,
   "metadata": {},
   "outputs": [],
   "source": []
  },
  {
   "cell_type": "code",
   "execution_count": null,
   "metadata": {},
   "outputs": [],
   "source": []
  },
  {
   "cell_type": "code",
   "execution_count": null,
   "metadata": {},
   "outputs": [],
   "source": []
  },
  {
   "cell_type": "code",
   "execution_count": null,
   "metadata": {},
   "outputs": [],
   "source": []
  },
  {
   "cell_type": "code",
   "execution_count": null,
   "metadata": {},
   "outputs": [],
   "source": []
  },
  {
   "cell_type": "code",
   "execution_count": null,
   "metadata": {},
   "outputs": [],
   "source": []
  },
  {
   "cell_type": "code",
   "execution_count": null,
   "metadata": {},
   "outputs": [],
   "source": []
  },
  {
   "cell_type": "code",
   "execution_count": null,
   "metadata": {},
   "outputs": [],
   "source": []
  },
  {
   "cell_type": "code",
   "execution_count": null,
   "metadata": {},
   "outputs": [],
   "source": []
  },
  {
   "cell_type": "code",
   "execution_count": null,
   "metadata": {},
   "outputs": [],
   "source": []
  },
  {
   "cell_type": "code",
   "execution_count": null,
   "metadata": {},
   "outputs": [],
   "source": []
  },
  {
   "cell_type": "code",
   "execution_count": null,
   "metadata": {},
   "outputs": [],
   "source": [
    "pop = pd.read_csv('data/population_est2017.csv')\n",
    "pop.head()"
   ]
  },
  {
   "cell_type": "code",
   "execution_count": null,
   "metadata": {},
   "outputs": [],
   "source": []
  }
 ],
 "metadata": {
  "kernelspec": {
   "display_name": "Python 3",
   "language": "python",
   "name": "python3"
  },
  "language_info": {
   "codemirror_mode": {
    "name": "ipython",
    "version": 3
   },
   "file_extension": ".py",
   "mimetype": "text/x-python",
   "name": "python",
   "nbconvert_exporter": "python",
   "pygments_lexer": "ipython3",
   "version": "3.8.5"
  }
 },
 "nbformat": 4,
 "nbformat_minor": 4
}
